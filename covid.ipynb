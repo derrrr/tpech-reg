{
 "cells": [
  {
   "cell_type": "code",
   "execution_count": 2,
   "id": "07731d1e",
   "metadata": {},
   "outputs": [],
   "source": [
    "import re\n",
    "import os\n",
    "import cv2\n",
    "import time\n",
    "import shutil\n",
    "import random\n",
    "import requests\n",
    "import codecs\n",
    "import configparser\n",
    "import numpy as np\n",
    "from bs4 import BeautifulSoup as BS\n",
    "from matplotlib import pyplot as plt\n",
    "from chardet import detect\n",
    "from pathlib import Path"
   ]
  },
  {
   "cell_type": "code",
   "execution_count": 3,
   "id": "2cb1df9b",
   "metadata": {},
   "outputs": [],
   "source": [
    "def _load_config():\n",
    "    config_path = \"./config.ini\"\n",
    "    with open(config_path, \"rb\") as ef:\n",
    "        config_encoding = detect(ef.read())[\"encoding\"]\n",
    "    config = configparser.ConfigParser()\n",
    "    config.read_file(codecs.open(config_path, \"r\", config_encoding))\n",
    "    return config"
   ]
  },
  {
   "cell_type": "code",
   "execution_count": 4,
   "id": "fa956e23",
   "metadata": {},
   "outputs": [],
   "source": [
    "def _requests_session(config, status_forcelist=(500, 502, 504), session=None):\n",
    "    session = requests.session()\n",
    "    headers = {\"user-agent\": config[\"Requests_header\"][\"user-agent\"]}\n",
    "    session.headers.update(headers)\n",
    "    return session"
   ]
  },
  {
   "cell_type": "code",
   "execution_count": 5,
   "id": "d2c47e94",
   "metadata": {},
   "outputs": [],
   "source": [
    "def mkdirs(path):\n",
    "    if not os.path.exists(path):\n",
    "        os.makedirs(path)"
   ]
  },
  {
   "cell_type": "code",
   "execution_count": 6,
   "id": "52feb2d6",
   "metadata": {},
   "outputs": [],
   "source": [
    "config = _load_config()"
   ]
  },
  {
   "cell_type": "code",
   "execution_count": 7,
   "id": "0f78b10d",
   "metadata": {},
   "outputs": [],
   "source": [
    "rs = _requests_session(config)"
   ]
  },
  {
   "cell_type": "code",
   "execution_count": 8,
   "id": "33ade99f",
   "metadata": {},
   "outputs": [],
   "source": [
    "dir_origin = \"./origin\""
   ]
  },
  {
   "cell_type": "code",
   "execution_count": 9,
   "id": "3af379d0",
   "metadata": {},
   "outputs": [],
   "source": [
    "mkdirs(\"./origin\")"
   ]
  },
  {
   "cell_type": "code",
   "execution_count": null,
   "id": "cd4d1b2f",
   "metadata": {},
   "outputs": [],
   "source": []
  },
  {
   "cell_type": "code",
   "execution_count": 10,
   "id": "ce80ca1d",
   "metadata": {},
   "outputs": [],
   "source": [
    "url = \"https://webreg.tpech.gov.tw/ValidateCode.aspx\""
   ]
  },
  {
   "cell_type": "code",
   "execution_count": null,
   "id": "5312ec44",
   "metadata": {},
   "outputs": [],
   "source": []
  },
  {
   "cell_type": "code",
   "execution_count": 11,
   "id": "a454cca3",
   "metadata": {},
   "outputs": [],
   "source": [
    "# i = 0\n",
    "# while(i < 200):\n",
    "#     save_path = \"./origin/{0:0=3d}.png\".format(i)\n",
    "#     res = rs.get(url, stream=True)\n",
    "#     if res.status_code == 200:\n",
    "#         with open(save_path, \"wb\") as f:\n",
    "#             for chunk in res.iter_content(1024):\n",
    "#                 f.write(chunk)\n",
    "#     i+=1\n",
    "#     time.sleep(random.uniform(1, 2))"
   ]
  },
  {
   "cell_type": "code",
   "execution_count": 12,
   "id": "31f998f1",
   "metadata": {},
   "outputs": [],
   "source": [
    "img_list = list(Path(dir_origin).iterdir())"
   ]
  },
  {
   "cell_type": "code",
   "execution_count": null,
   "id": "4d2f67e7",
   "metadata": {},
   "outputs": [],
   "source": []
  },
  {
   "cell_type": "code",
   "execution_count": 13,
   "id": "961a79ed",
   "metadata": {},
   "outputs": [
    {
     "data": {
      "text/plain": [
       "'origin\\\\000.png'"
      ]
     },
     "execution_count": 13,
     "metadata": {},
     "output_type": "execute_result"
    }
   ],
   "source": [
    "str(img_list[0])"
   ]
  },
  {
   "cell_type": "code",
   "execution_count": 41,
   "id": "3f0c6351",
   "metadata": {},
   "outputs": [],
   "source": [
    "img_path = img_list[0]"
   ]
  },
  {
   "cell_type": "code",
   "execution_count": 42,
   "id": "e53c4179",
   "metadata": {},
   "outputs": [],
   "source": [
    "image = cv2.imread(str(img_path))\n",
    "image = cv2.cvtColor(image, cv2.COLOR_RGB2GRAY)\n",
    "# image_r = 225 - image"
   ]
  },
  {
   "cell_type": "code",
   "execution_count": null,
   "id": "73e34fdc",
   "metadata": {},
   "outputs": [],
   "source": [
    "# def ero(img):\n",
    "#     kernel = np.ones((2, 2), np.uint8)\n",
    "#     return cv2.erode(img, kernel, iterations=1)"
   ]
  },
  {
   "cell_type": "code",
   "execution_count": null,
   "id": "232ac4db",
   "metadata": {},
   "outputs": [],
   "source": [
    "# def dil(img):\n",
    "#     kernel = np.ones((2, 2), np.uint8)\n",
    "#     return cv2.dilate(img, kernel, iterations=1)"
   ]
  },
  {
   "cell_type": "code",
   "execution_count": 26,
   "id": "cffa27f1",
   "metadata": {},
   "outputs": [],
   "source": [
    "def mor_open(img):\n",
    "    kernel = np.ones((2, 2), np.uint8)\n",
    "    return cv2.morphologyEx(img, cv2.MORPH_OPEN, kernel)"
   ]
  },
  {
   "cell_type": "code",
   "execution_count": 27,
   "id": "82f4f74b",
   "metadata": {},
   "outputs": [],
   "source": [
    "def mor_close(img):\n",
    "    kernel = np.ones((2, 2), np.uint8)\n",
    "    return cv2.morphologyEx(img, cv2.MORPH_CLOSE, kernel)"
   ]
  },
  {
   "cell_type": "code",
   "execution_count": 28,
   "id": "96510717",
   "metadata": {},
   "outputs": [],
   "source": [
    "# cv2.imwrite(\"./test.png\", image)"
   ]
  },
  {
   "cell_type": "code",
   "execution_count": 29,
   "id": "649cfac2",
   "metadata": {},
   "outputs": [],
   "source": [
    "def crop_img(img, x, w, y, h):\n",
    "    return img[y:y+h, x:x+w]"
   ]
  },
  {
   "cell_type": "code",
   "execution_count": 43,
   "id": "cab8ea0b",
   "metadata": {},
   "outputs": [
    {
     "data": {
      "text/plain": [
       "<matplotlib.image.AxesImage at 0x1925a2296a0>"
      ]
     },
     "execution_count": 43,
     "metadata": {},
     "output_type": "execute_result"
    },
    {
     "data": {
      "image/png": "[encoded data removed]",
      "text/plain": [
       "<Figure size 432x288 with 1 Axes>"
      ]
     },
     "metadata": {
      "needs_background": "light"
     },
     "output_type": "display_data"
    }
   ],
   "source": [
    "plt.imshow(image)"
   ]
  },
  {
   "cell_type": "code",
   "execution_count": 44,
   "id": "df5b588e",
   "metadata": {},
   "outputs": [
    {
     "data": {
      "text/plain": [
       "<matplotlib.image.AxesImage at 0x1925a29a130>"
      ]
     },
     "execution_count": 44,
     "metadata": {},
     "output_type": "execute_result"
    },
    {
     "data": {
      "image/png": "[encoded data removed]",
      "text/plain": [
       "<Figure size 432x288 with 1 Axes>"
      ]
     },
     "metadata": {
      "needs_background": "light"
     },
     "output_type": "display_data"
    }
   ],
   "source": [
    "plt.imshow(crop_img(image, 5, 15, 5, 20))"
   ]
  },
  {
   "cell_type": "code",
   "execution_count": 45,
   "id": "bf8aaa57",
   "metadata": {},
   "outputs": [
    {
     "data": {
      "text/plain": [
       "array([[255, 255, 255, 255, 255, 255, 255, 255, 255, 255, 255, 255, 255,\n",
       "        255, 255],\n",
       "       [255, 255, 255, 255, 255, 255, 255, 255, 142,  98,  97, 229, 255,\n",
       "        255, 255],\n",
       "       [255, 255, 255, 255, 255, 255, 255, 196,  98,  98,  97, 229, 255,\n",
       "        255, 255],\n",
       "       [255, 255, 255, 255, 255, 255, 237, 101,  98,  98,  97, 229, 255,\n",
       "        255, 255],\n",
       "       [255, 255, 255, 255, 255, 255, 142,  98,  98,  98,  97, 229, 255,\n",
       "        255, 252],\n",
       "       [255, 255, 255, 255, 255, 196,  98,  98,  98,  98,  97, 229, 255,\n",
       "        255, 250],\n",
       "       [255, 255, 255, 255, 255, 104,  98, 133, 101,  98,  97, 229, 255,\n",
       "        255, 255],\n",
       "       [255, 255, 255, 255, 170,  98,  97, 229, 104,  98,  97, 229, 255,\n",
       "        255, 255],\n",
       "       [255, 255, 255, 218,  98,  98, 185, 255, 104,  98,  97, 229, 255,\n",
       "        255, 255],\n",
       "       [255, 255, 255, 104,  98, 133, 252, 255, 104,  98,  97, 229, 255,\n",
       "        255, 255],\n",
       "       [255, 255, 170,  98,  98, 208, 255, 255, 104,  98,  97, 229, 255,\n",
       "        255, 255],\n",
       "       [255, 237, 101,  98, 158, 255, 255, 255, 104,  98,  97, 229, 255,\n",
       "        255, 255],\n",
       "       [255, 196,  98,  98,  98,  98,  98,  98,  98,  98,  98,  98,  98,\n",
       "        208, 255],\n",
       "       [255, 196,  98,  98,  98,  98,  98,  98,  98,  98,  98,  98,  98,\n",
       "        208, 255],\n",
       "       [255, 196,  98,  98,  98,  98,  98,  98,  98,  98,  98,  98,  98,\n",
       "        208, 255],\n",
       "       [255, 255, 255, 255, 255, 255, 255, 255, 104,  98,  97, 229, 255,\n",
       "        255, 255],\n",
       "       [255, 255, 255, 255, 255, 255, 255, 255, 104,  98,  97, 229, 255,\n",
       "        255, 230],\n",
       "       [255, 255, 255, 255, 255, 255, 255, 255, 104,  98,  97, 229, 255,\n",
       "        255, 211],\n",
       "       [255, 255, 255, 255, 255, 255, 255, 255, 255, 255, 255, 255, 255,\n",
       "        255, 255],\n",
       "       [255, 255, 255, 255, 255, 255, 255, 255, 255, 255, 255, 255, 255,\n",
       "        255, 255]], dtype=uint8)"
      ]
     },
     "execution_count": 45,
     "metadata": {},
     "output_type": "execute_result"
    }
   ],
   "source": [
    "crop_img(image, 5, 15, 5, 20)"
   ]
  },
  {
   "cell_type": "code",
   "execution_count": null,
   "id": "bb116004",
   "metadata": {},
   "outputs": [],
   "source": []
  },
  {
   "cell_type": "code",
   "execution_count": 22,
   "id": "b641135a",
   "metadata": {},
   "outputs": [],
   "source": [
    "crop_list = []\n",
    "for img_file in img_list:\n",
    "    img_path = str(img_file)\n",
    "    image = cv2.imread(str(img_path))\n",
    "    image = cv2.cvtColor(image, cv2.COLOR_RGB2GRAY)\n",
    "    crop_list.append(crop_img(image, 5, 15, 5, 20))\n",
    "    crop_list.append(crop_img(image, 18, 15, 5, 20))\n",
    "    crop_list.append(crop_img(image, 31, 15, 5, 20))\n",
    "    crop_list.append(crop_img(image, 43, 15, 5, 20))"
   ]
  },
  {
   "cell_type": "code",
   "execution_count": 23,
   "id": "4ba9e184",
   "metadata": {},
   "outputs": [
    {
     "data": {
      "text/plain": [
       "800"
      ]
     },
     "execution_count": 23,
     "metadata": {},
     "output_type": "execute_result"
    }
   ],
   "source": [
    "len(crop_list)"
   ]
  },
  {
   "cell_type": "code",
   "execution_count": 24,
   "id": "4af9e3c2",
   "metadata": {},
   "outputs": [],
   "source": [
    "dir_crop = \"./crop\"\n",
    "mkdirs(dir_crop)"
   ]
  },
  {
   "cell_type": "code",
   "execution_count": 30,
   "id": "9e253542",
   "metadata": {},
   "outputs": [
    {
     "data": {
      "text/plain": [
       "<matplotlib.image.AxesImage at 0x1925a1c4130>"
      ]
     },
     "execution_count": 30,
     "metadata": {},
     "output_type": "execute_result"
    },
    {
     "data": {
      "image/png": "[encoded data removed]",
      "text/plain": [
       "<Figure size 432x288 with 1 Axes>"
      ]
     },
     "metadata": {
      "needs_background": "light"
     },
     "output_type": "display_data"
    }
   ],
   "source": [
    "plt.imshow(mor_close(crop_list[0]))"
   ]
  },
  {
   "cell_type": "code",
   "execution_count": 33,
   "id": "ea767b64",
   "metadata": {},
   "outputs": [],
   "source": [
    "i = 0\n",
    "for image in crop_list:\n",
    "    cv2.imwrite(\"./{}/{}-{}.png\".format(dir_crop, i//4, i%4), mor_close(image))\n",
    "    i+=1"
   ]
  },
  {
   "cell_type": "code",
   "execution_count": 34,
   "id": "19b062bd",
   "metadata": {
    "scrolled": true
   },
   "outputs": [],
   "source": [
    "# plt.imshow(image)"
   ]
  },
  {
   "cell_type": "code",
   "execution_count": 35,
   "id": "de13979f",
   "metadata": {},
   "outputs": [],
   "source": [
    "# plt.imshow(image[5:25, 5:20])"
   ]
  },
  {
   "cell_type": "code",
   "execution_count": 36,
   "id": "56d4993c",
   "metadata": {
    "scrolled": true
   },
   "outputs": [],
   "source": [
    "# plt.imshow(mor_close(image[5:25, 5:20]))"
   ]
  },
  {
   "cell_type": "code",
   "execution_count": 37,
   "id": "e6a0f586",
   "metadata": {},
   "outputs": [],
   "source": [
    "# plt.imshow(mor_close(image[5:25, 18:33]))"
   ]
  },
  {
   "cell_type": "code",
   "execution_count": 38,
   "id": "c3d13d46",
   "metadata": {},
   "outputs": [],
   "source": [
    "# plt.imshow(mor_close(image[5:25, 31:46]))"
   ]
  },
  {
   "cell_type": "code",
   "execution_count": 39,
   "id": "3e096b3b",
   "metadata": {},
   "outputs": [],
   "source": [
    "# plt.imshow(image[5:25, 43:58])"
   ]
  },
  {
   "cell_type": "code",
   "execution_count": 40,
   "id": "99cb511e",
   "metadata": {
    "scrolled": true
   },
   "outputs": [],
   "source": [
    "# plt.imshow(mor_close(image[5:25, 43:58]))"
   ]
  },
  {
   "cell_type": "code",
   "execution_count": null,
   "id": "a80e789a",
   "metadata": {},
   "outputs": [],
   "source": []
  },
  {
   "cell_type": "code",
   "execution_count": null,
   "id": "7a665613",
   "metadata": {},
   "outputs": [],
   "source": []
  }
 ],
 "metadata": {
  "kernelspec": {
   "display_name": "Python 3 (ipykernel)",
   "language": "python",
   "name": "python3"
  },
  "language_info": {
   "codemirror_mode": {
    "name": "ipython",
    "version": 3
   },
   "file_extension": ".py",
   "mimetype": "text/x-python",
   "name": "python",
   "nbconvert_exporter": "python",
   "pygments_lexer": "ipython3",
   "version": "3.9.6"
  }
 },
 "nbformat": 4,
 "nbformat_minor": 5
}
