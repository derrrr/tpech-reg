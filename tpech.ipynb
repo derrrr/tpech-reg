{
 "cells": [
  {
   "cell_type": "code",
   "execution_count": 129,
   "id": "f9ea26a7",
   "metadata": {},
   "outputs": [],
   "source": [
    "import re\n",
    "import os\n",
    "import cv2\n",
    "import time\n",
    "import codecs\n",
    "import random\n",
    "import shutil\n",
    "import requests\n",
    "import configparser\n",
    "from pathlib import Path\n",
    "from chardet import detect\n",
    "from selenium import webdriver\n",
    "from matplotlib import pyplot as plt\n",
    "# from urllib.parse import unquote, urlparse\n",
    "from bs4 import BeautifulSoup as BS\n",
    "from selenium.webdriver.chrome.options import Options\n",
    "from selenium.webdriver.support.ui import Select"
   ]
  },
  {
   "cell_type": "code",
   "execution_count": 2,
   "id": "fbb72ec3",
   "metadata": {},
   "outputs": [],
   "source": [
    "def _load_config():\n",
    "    config_path = \"./config.ini\"\n",
    "    with open(config_path, \"rb\") as ef:\n",
    "        config_encoding = detect(ef.read())[\"encoding\"]\n",
    "    config = configparser.ConfigParser()\n",
    "    config.read_file(codecs.open(config_path, \"r\", config_encoding))\n",
    "    return config"
   ]
  },
  {
   "cell_type": "code",
   "execution_count": 3,
   "id": "37e3c6ad",
   "metadata": {},
   "outputs": [],
   "source": [
    "def _requests_retry_session(config, status_forcelist=(500, 502, 504), session=None):\n",
    "    session = requests.session()\n",
    "    headers = {\"user-agent\": config[\"Requests_header\"][\"user-agent\"]}\n",
    "    session.headers.update(headers)\n",
    "    return session"
   ]
  },
  {
   "cell_type": "code",
   "execution_count": 244,
   "id": "97c1bce5",
   "metadata": {},
   "outputs": [],
   "source": [
    "def mkdirs(path):\n",
    "    if not os.path.exists(path):\n",
    "        os.makedirs(path)"
   ]
  },
  {
   "cell_type": "code",
   "execution_count": 4,
   "id": "22fd9f58",
   "metadata": {},
   "outputs": [],
   "source": [
    "config = _load_config()"
   ]
  },
  {
   "cell_type": "code",
   "execution_count": 5,
   "id": "4e95cc6c",
   "metadata": {},
   "outputs": [],
   "source": [
    "home_path = str(Path.home()).replace(\"\\\\\", \"/\")"
   ]
  },
  {
   "cell_type": "code",
   "execution_count": 242,
   "id": "0b2967b8",
   "metadata": {},
   "outputs": [
    {
     "data": {
      "text/plain": [
       "WindowsPath('D:/python/tpech')"
      ]
     },
     "execution_count": 242,
     "metadata": {},
     "output_type": "execute_result"
    }
   ],
   "source": [
    "Path().absolute()"
   ]
  },
  {
   "cell_type": "code",
   "execution_count": 268,
   "id": "a8d94763",
   "metadata": {},
   "outputs": [],
   "source": [
    "dir_cache = \"./cache\"\n",
    "mkdirs(dir_cache)"
   ]
  },
  {
   "cell_type": "code",
   "execution_count": 271,
   "id": "85417cc9",
   "metadata": {},
   "outputs": [],
   "source": [
    "def selenium_setting():\n",
    "    # Selenium setting\n",
    "    chrome_opt = Options()\n",
    "#     chrome_opt.headless = True\n",
    "    chrome_opt.add_argument(\"--disable-gpu\")\n",
    "    chrome_opt.add_argument(\"--mute-audio\")\n",
    "    chrome_opt.add_argument(\"--ignore-gpu-blocklist\")\n",
    "    chrome_opt.add_argument(\"--no-default-browser-check\")\n",
    "    chrome_opt.add_argument(\"--disable-default-apps\")\n",
    "    chrome_opt.add_argument(\"--disable-extensions\")\n",
    "    chrome_opt.add_argument(\"--hide-scrollbars\")\n",
    "    chrome_opt.add_argument(\"disk-cache-dir={}/{}\".format(Path().absolute(), dir_cache))\n",
    "    chrome_opt.add_experimental_option(\"excludeSwitches\", [\"enable-logging\"])\n",
    "    chrome_opt.binary_location = config[\"Chrome_Canary\"][\"CHROME_PATH\"].format(home_path)\n",
    "    return chrome_opt"
   ]
  },
  {
   "cell_type": "code",
   "execution_count": 272,
   "id": "66391e70",
   "metadata": {},
   "outputs": [],
   "source": [
    "chrome_opt = selenium_setting()"
   ]
  },
  {
   "cell_type": "code",
   "execution_count": 281,
   "id": "838dfb21",
   "metadata": {},
   "outputs": [],
   "source": [
    "driver.quit()"
   ]
  },
  {
   "cell_type": "code",
   "execution_count": null,
   "id": "65a9ceae",
   "metadata": {},
   "outputs": [],
   "source": []
  },
  {
   "cell_type": "code",
   "execution_count": 274,
   "id": "e849d943",
   "metadata": {},
   "outputs": [],
   "source": [
    "url = \"https://webreg.tpech.gov.tw/RegOnline1_2.aspx?ZCode=P&DeptCode=0100&deptname=\\\n",
    "    %e5%ae%b6%e5%ba%ad%e9%86%ab%e5%ad%b8%e7%a7%91\""
   ]
  },
  {
   "cell_type": "code",
   "execution_count": 275,
   "id": "b1291998",
   "metadata": {},
   "outputs": [],
   "source": [
    "driver = webdriver.Chrome(\n",
    "            executable_path=config[\"Chrome_Canary\"][\"CHROMEDRIVER_PATH\"],\n",
    "            options=chrome_opt\n",
    "        )"
   ]
  },
  {
   "cell_type": "code",
   "execution_count": null,
   "id": "254f9db2",
   "metadata": {},
   "outputs": [],
   "source": []
  },
  {
   "cell_type": "code",
   "execution_count": 276,
   "id": "ad734237",
   "metadata": {},
   "outputs": [],
   "source": [
    "driver.get(url)"
   ]
  },
  {
   "cell_type": "code",
   "execution_count": 277,
   "id": "9d9c4430",
   "metadata": {},
   "outputs": [],
   "source": [
    "soup = BS(driver.page_source, \"lxml\")"
   ]
  },
  {
   "cell_type": "code",
   "execution_count": 278,
   "id": "4873119b",
   "metadata": {},
   "outputs": [],
   "source": [
    "doc_name = soup.find_all(\"input\", {\"name\":\"RadioDoctor\"})[0].parent.a.text"
   ]
  },
  {
   "cell_type": "code",
   "execution_count": 279,
   "id": "f319f2c3",
   "metadata": {},
   "outputs": [],
   "source": [
    "driver.find_element_by_link_text(doc_name).click()"
   ]
  },
  {
   "cell_type": "code",
   "execution_count": null,
   "id": "2cc82616",
   "metadata": {},
   "outputs": [],
   "source": []
  },
  {
   "cell_type": "code",
   "execution_count": 180,
   "id": "478ec516",
   "metadata": {},
   "outputs": [],
   "source": [
    "driver.find_element_by_name(\"no\").send_keys(\"\")"
   ]
  },
  {
   "cell_type": "code",
   "execution_count": 181,
   "id": "311ea571",
   "metadata": {},
   "outputs": [],
   "source": [
    "# Select(driver.find_element_by_name(\"yeartype\")).select_by_value(\"民國\")"
   ]
  },
  {
   "cell_type": "code",
   "execution_count": 182,
   "id": "7dffaade",
   "metadata": {},
   "outputs": [],
   "source": [
    "Select(driver.find_element_by_name(\"y1\")).select_by_value(\"\")"
   ]
  },
  {
   "cell_type": "code",
   "execution_count": 183,
   "id": "620ec768",
   "metadata": {},
   "outputs": [],
   "source": [
    "Select(driver.find_element_by_name(\"m1\")).select_by_value(\"\")"
   ]
  },
  {
   "cell_type": "code",
   "execution_count": 184,
   "id": "6577ac88",
   "metadata": {},
   "outputs": [],
   "source": [
    "Select(driver.find_element_by_name(\"d1\")).select_by_value(\"\")"
   ]
  },
  {
   "cell_type": "code",
   "execution_count": 185,
   "id": "55ff1ad2",
   "metadata": {},
   "outputs": [],
   "source": [
    "driver.find_element_by_id(\"rbAgree\").click()"
   ]
  },
  {
   "cell_type": "code",
   "execution_count": 186,
   "id": "83a99efe",
   "metadata": {},
   "outputs": [],
   "source": [
    "driver.find_element_by_name(\"txtCellPhone\").send_keys(\"\")"
   ]
  },
  {
   "cell_type": "code",
   "execution_count": 187,
   "id": "e04abdcf",
   "metadata": {},
   "outputs": [],
   "source": [
    "# driver.find_element_by_name(\"Button1\").click()"
   ]
  },
  {
   "cell_type": "code",
   "execution_count": 233,
   "id": "b5ca42b9",
   "metadata": {},
   "outputs": [],
   "source": [
    "width  = driver.execute_script(\"return Math.max(document.body.scrollWidth, document.body.offsetWidth, document.documentElement.clientWidth, document.documentElement.scrollWidth, document.documentElement.offsetWidth);\")\n",
    "height = driver.execute_script(\"return Math.max(document.body.scrollHeight, document.body.offsetHeight, document.documentElement.clientHeight, document.documentElement.scrollHeight, document.documentElement.offsetHeight);\")\n",
    "driver.set_window_size(width, height)"
   ]
  },
  {
   "cell_type": "code",
   "execution_count": 263,
   "id": "6492d1c3",
   "metadata": {},
   "outputs": [
    {
     "data": {
      "text/plain": [
       "True"
      ]
     },
     "execution_count": 263,
     "metadata": {},
     "output_type": "execute_result"
    }
   ],
   "source": [
    "driver.save_screenshot(\"screenshot.png\")"
   ]
  },
  {
   "cell_type": "code",
   "execution_count": 280,
   "id": "63a4a414",
   "metadata": {},
   "outputs": [],
   "source": [
    "verify = driver.find_element_by_xpath(\"//img[@src='ValidateCode.aspx']\")"
   ]
  },
  {
   "cell_type": "code",
   "execution_count": 260,
   "id": "a5da47d1",
   "metadata": {},
   "outputs": [],
   "source": [
    "location = verify.location\n",
    "size = verify.size"
   ]
  },
  {
   "cell_type": "code",
   "execution_count": 261,
   "id": "224e6b14",
   "metadata": {},
   "outputs": [],
   "source": [
    "left = location[\"x\"]\n",
    "top = location[\"y\"]\n",
    "right = location[\"x\"] + size[\"width\"]\n",
    "bottom = location[\"y\"] + size[\"height\"]"
   ]
  },
  {
   "cell_type": "code",
   "execution_count": 262,
   "id": "73b8e406",
   "metadata": {},
   "outputs": [
    {
     "data": {
      "text/plain": [
       "(316, 384, 721, 747)"
      ]
     },
     "execution_count": 262,
     "metadata": {},
     "output_type": "execute_result"
    }
   ],
   "source": [
    "left, right, top, bottom"
   ]
  },
  {
   "cell_type": "code",
   "execution_count": 264,
   "id": "237683fc",
   "metadata": {},
   "outputs": [],
   "source": [
    "im = cv2.imread(\"screenshot.png\")"
   ]
  },
  {
   "cell_type": "code",
   "execution_count": 265,
   "id": "264a26f1",
   "metadata": {},
   "outputs": [
    {
     "data": {
      "text/plain": [
       "<matplotlib.image.AxesImage at 0x208f582e340>"
      ]
     },
     "execution_count": 265,
     "metadata": {},
     "output_type": "execute_result"
    },
    {
     "data": {
      "image/png": "[encoded data removed]",
      "text/plain": [
       "<Figure size 432x288 with 1 Axes>"
      ]
     },
     "metadata": {
      "needs_background": "light"
     },
     "output_type": "display_data"
    }
   ],
   "source": [
    "plt.imshow(im)"
   ]
  },
  {
   "cell_type": "code",
   "execution_count": 266,
   "id": "04d14e65",
   "metadata": {},
   "outputs": [
    {
     "data": {
      "text/plain": [
       "<matplotlib.image.AxesImage at 0x208f5b8f5e0>"
      ]
     },
     "execution_count": 266,
     "metadata": {},
     "output_type": "execute_result"
    },
    {
     "data": {
      "image/png": "[encoded data removed]",
      "text/plain": [
       "<Figure size 432x288 with 1 Axes>"
      ]
     },
     "metadata": {
      "needs_background": "light"
     },
     "output_type": "display_data"
    }
   ],
   "source": [
    "plt.imshow(im[top:bottom, left:right])"
   ]
  },
  {
   "cell_type": "code",
   "execution_count": null,
   "id": "de0023f3",
   "metadata": {},
   "outputs": [],
   "source": []
  },
  {
   "cell_type": "code",
   "execution_count": null,
   "id": "2459bb30",
   "metadata": {},
   "outputs": [],
   "source": []
  },
  {
   "cell_type": "code",
   "execution_count": 128,
   "id": "32ee2b33",
   "metadata": {},
   "outputs": [
    {
     "data": {
      "text/plain": [
       "True"
      ]
     },
     "execution_count": 128,
     "metadata": {},
     "output_type": "execute_result"
    }
   ],
   "source": [
    "cv2.imwrite(\"./crop.png\", )"
   ]
  },
  {
   "cell_type": "code",
   "execution_count": null,
   "id": "52d1ac0d",
   "metadata": {},
   "outputs": [],
   "source": []
  }
 ],
 "metadata": {
  "kernelspec": {
   "display_name": "Python 3 (ipykernel)",
   "language": "python",
   "name": "python3"
  },
  "language_info": {
   "codemirror_mode": {
    "name": "ipython",
    "version": 3
   },
   "file_extension": ".py",
   "mimetype": "text/x-python",
   "name": "python",
   "nbconvert_exporter": "python",
   "pygments_lexer": "ipython3",
   "version": "3.9.6"
  }
 },
 "nbformat": 4,
 "nbformat_minor": 5
}
