{
 "cells": [
  {
   "cell_type": "code",
   "execution_count": 37,
   "id": "f9ea26a7",
   "metadata": {
    "scrolled": true
   },
   "outputs": [],
   "source": [
    "import re\n",
    "import os\n",
    "import cv2\n",
    "import time\n",
    "import codecs\n",
    "import random\n",
    "import shutil\n",
    "import requests\n",
    "import pyautogui\n",
    "import pywinauto\n",
    "from pywinauto import Application\n",
    "import configparser\n",
    "from pathlib import Path\n",
    "from chardet import detect\n",
    "from selenium import webdriver\n",
    "from matplotlib import pyplot as plt\n",
    "# from urllib.parse import unquote, urlparse\n",
    "from bs4 import BeautifulSoup as BS\n",
    "from selenium.webdriver.chrome.options import Options\n",
    "from selenium.webdriver.support.ui import Select"
   ]
  },
  {
   "cell_type": "code",
   "execution_count": 3,
   "id": "fbb72ec3",
   "metadata": {},
   "outputs": [],
   "source": [
    "def _load_config():\n",
    "    config_path = \"./config.ini\"\n",
    "    with open(config_path, \"rb\") as ef:\n",
    "        config_encoding = detect(ef.read())[\"encoding\"]\n",
    "    config = configparser.ConfigParser()\n",
    "    config.read_file(codecs.open(config_path, \"r\", config_encoding))\n",
    "    return config"
   ]
  },
  {
   "cell_type": "code",
   "execution_count": 4,
   "id": "37e3c6ad",
   "metadata": {},
   "outputs": [],
   "source": [
    "def _requests_retry_session(config, status_forcelist=(500, 502, 504), session=None):\n",
    "    session = requests.session()\n",
    "    headers = {\"user-agent\": config[\"Requests_header\"][\"user-agent\"]}\n",
    "    session.headers.update(headers)\n",
    "    return session"
   ]
  },
  {
   "cell_type": "code",
   "execution_count": 5,
   "id": "97c1bce5",
   "metadata": {},
   "outputs": [],
   "source": [
    "def mkdirs(path):\n",
    "    if not os.path.exists(path):\n",
    "        os.makedirs(path)"
   ]
  },
  {
   "cell_type": "code",
   "execution_count": 223,
   "id": "22fd9f58",
   "metadata": {},
   "outputs": [],
   "source": [
    "config = _load_config()"
   ]
  },
  {
   "cell_type": "code",
   "execution_count": 7,
   "id": "4e95cc6c",
   "metadata": {},
   "outputs": [],
   "source": [
    "home_path = str(Path.home()).replace(\"\\\\\", \"/\")"
   ]
  },
  {
   "cell_type": "code",
   "execution_count": 8,
   "id": "0b2967b8",
   "metadata": {},
   "outputs": [
    {
     "data": {
      "text/plain": [
       "WindowsPath('D:/python/tpech')"
      ]
     },
     "execution_count": 8,
     "metadata": {},
     "output_type": "execute_result"
    }
   ],
   "source": [
    "Path().absolute()"
   ]
  },
  {
   "cell_type": "code",
   "execution_count": 52,
   "id": "a8d94763",
   "metadata": {},
   "outputs": [],
   "source": [
    "# dir_cache = \"./cache\"\n",
    "# shutil.rmtree(dir_cache, ignore_errors=True)\n",
    "# mkdirs(dir_cache)"
   ]
  },
  {
   "cell_type": "code",
   "execution_count": 153,
   "id": "85417cc9",
   "metadata": {},
   "outputs": [],
   "source": [
    "def selenium_setting():\n",
    "    # Selenium setting\n",
    "    chrome_opt = Options()\n",
    "#     chrome_opt.headless = True\n",
    "    chrome_opt.add_argument(\"--disable-gpu\")\n",
    "    chrome_opt.add_argument(\"--mute-audio\")\n",
    "    chrome_opt.add_argument(\"--ignore-gpu-blocklist\")\n",
    "    chrome_opt.add_argument(\"--no-default-browser-check\")\n",
    "    chrome_opt.add_argument(\"--disable-default-apps\")\n",
    "    chrome_opt.add_argument(\"--disable-extensions\")\n",
    "    chrome_opt.add_argument(\"--hide-scrollbars\")\n",
    "#     chrome_opt.add_argument(\"disk-cache-dir={}/{}\".format(Path().absolute(), dir_cache))\n",
    "    chrome_opt.add_experimental_option(\"excludeSwitches\", [\"enable-logging\"])\n",
    "    chrome_opt.binary_location = config[\"Chrome_Canary\"][\"CHROME_PATH\"].format(home_path)\n",
    "    return chrome_opt"
   ]
  },
  {
   "cell_type": "code",
   "execution_count": 154,
   "id": "66391e70",
   "metadata": {},
   "outputs": [],
   "source": [
    "chrome_opt = selenium_setting()"
   ]
  },
  {
   "cell_type": "code",
   "execution_count": 228,
   "id": "838dfb21",
   "metadata": {},
   "outputs": [],
   "source": [
    "driver.quit()"
   ]
  },
  {
   "cell_type": "code",
   "execution_count": null,
   "id": "a24ee112",
   "metadata": {},
   "outputs": [],
   "source": []
  },
  {
   "cell_type": "code",
   "execution_count": 219,
   "id": "65a9ceae",
   "metadata": {},
   "outputs": [],
   "source": [
    "dir_downloads = \"{}/downloads/page_files\".format(Path.home())\n",
    "page_path = \"{}/downloads/page.html\".format(Path.home())"
   ]
  },
  {
   "cell_type": "code",
   "execution_count": 221,
   "id": "12c7a348",
   "metadata": {},
   "outputs": [],
   "source": [
    "shutil.rmtree(dir_downloads, ignore_errors=True)\n",
    "if os.path.exists(page_path):\n",
    "    Path(page_path).unlink()"
   ]
  },
  {
   "cell_type": "code",
   "execution_count": null,
   "id": "71590128",
   "metadata": {},
   "outputs": [],
   "source": []
  },
  {
   "cell_type": "code",
   "execution_count": 225,
   "id": "e849d943",
   "metadata": {},
   "outputs": [
    {
     "data": {
      "text/plain": [
       "'https://webreg.tpech.gov.tw/RegOnline1_2.aspx?ZCode=P&DeptCode=0100&deptname=家庭醫學科'"
      ]
     },
     "execution_count": 225,
     "metadata": {},
     "output_type": "execute_result"
    }
   ],
   "source": [
    "url = config[\"reg_url\"][\"url\"]\n",
    "url"
   ]
  },
  {
   "cell_type": "code",
   "execution_count": 226,
   "id": "b1291998",
   "metadata": {},
   "outputs": [],
   "source": [
    "driver = webdriver.Chrome(\n",
    "            executable_path=config[\"Chrome_Canary\"][\"CHROMEDRIVER_PATH\"],\n",
    "            options=chrome_opt\n",
    "        )"
   ]
  },
  {
   "cell_type": "code",
   "execution_count": null,
   "id": "254f9db2",
   "metadata": {},
   "outputs": [],
   "source": []
  },
  {
   "cell_type": "code",
   "execution_count": 227,
   "id": "ad734237",
   "metadata": {},
   "outputs": [],
   "source": [
    "driver.get(url)"
   ]
  },
  {
   "cell_type": "code",
   "execution_count": 184,
   "id": "9d9c4430",
   "metadata": {},
   "outputs": [],
   "source": [
    "soup = BS(driver.page_source, \"lxml\")"
   ]
  },
  {
   "cell_type": "code",
   "execution_count": 185,
   "id": "4873119b",
   "metadata": {},
   "outputs": [],
   "source": [
    "doc_name = soup.find_all(\"input\", {\"name\":\"RadioDoctor\"})[0].parent.a.text"
   ]
  },
  {
   "cell_type": "code",
   "execution_count": 186,
   "id": "f319f2c3",
   "metadata": {},
   "outputs": [],
   "source": [
    "driver.find_element_by_link_text(doc_name).click()"
   ]
  },
  {
   "cell_type": "code",
   "execution_count": null,
   "id": "2cc82616",
   "metadata": {},
   "outputs": [],
   "source": []
  },
  {
   "cell_type": "code",
   "execution_count": 229,
   "id": "05311e33",
   "metadata": {},
   "outputs": [],
   "source": [
    "id_no = config[\"reg_info\"][\"id\"]\n",
    "birth_y = config[\"reg_info\"][\"birth_year\"]\n",
    "birth_m = config[\"reg_info\"][\"birth_month\"]\n",
    "birth_d = config[\"reg_info\"][\"birth_day\"]\n",
    "phone = config[\"reg_info\"][\"phone\"]"
   ]
  },
  {
   "cell_type": "code",
   "execution_count": null,
   "id": "5ee3f53c",
   "metadata": {},
   "outputs": [],
   "source": []
  },
  {
   "cell_type": "code",
   "execution_count": 187,
   "id": "478ec516",
   "metadata": {},
   "outputs": [],
   "source": [
    "driver.find_element_by_name(\"no\").send_keys(id_no)"
   ]
  },
  {
   "cell_type": "code",
   "execution_count": 188,
   "id": "311ea571",
   "metadata": {},
   "outputs": [],
   "source": [
    "# Select(driver.find_element_by_name(\"yeartype\")).select_by_value(\"民國\")"
   ]
  },
  {
   "cell_type": "code",
   "execution_count": 189,
   "id": "7dffaade",
   "metadata": {},
   "outputs": [],
   "source": [
    "Select(driver.find_element_by_name(\"y1\")).select_by_value(birth_y)"
   ]
  },
  {
   "cell_type": "code",
   "execution_count": 190,
   "id": "620ec768",
   "metadata": {},
   "outputs": [],
   "source": [
    "Select(driver.find_element_by_name(\"m1\")).select_by_value(birth_m)"
   ]
  },
  {
   "cell_type": "code",
   "execution_count": 191,
   "id": "6577ac88",
   "metadata": {},
   "outputs": [],
   "source": [
    "Select(driver.find_element_by_name(\"d1\")).select_by_value(birth_d)"
   ]
  },
  {
   "cell_type": "code",
   "execution_count": 192,
   "id": "55ff1ad2",
   "metadata": {},
   "outputs": [],
   "source": [
    "driver.find_element_by_id(\"rbAgree\").click()"
   ]
  },
  {
   "cell_type": "code",
   "execution_count": 193,
   "id": "83a99efe",
   "metadata": {},
   "outputs": [],
   "source": [
    "driver.find_element_by_name(\"txtCellPhone\").send_keys(phone)"
   ]
  },
  {
   "cell_type": "code",
   "execution_count": 197,
   "id": "63a4a414",
   "metadata": {},
   "outputs": [],
   "source": [
    "verify = driver.find_element_by_xpath(\"//img[@src='ValidateCode.aspx']\")"
   ]
  },
  {
   "cell_type": "code",
   "execution_count": 200,
   "id": "e6e4006b",
   "metadata": {},
   "outputs": [
    {
     "data": {
      "text/plain": [
       "12092"
      ]
     },
     "execution_count": 200,
     "metadata": {},
     "output_type": "execute_result"
    }
   ],
   "source": [
    "pid = pywinauto.findwindows.find_element(title_re=\"網路掛號\").process_id\n",
    "pid"
   ]
  },
  {
   "cell_type": "code",
   "execution_count": 201,
   "id": "5c12384c",
   "metadata": {},
   "outputs": [],
   "source": [
    "app = Application().connect(process=pid)"
   ]
  },
  {
   "cell_type": "code",
   "execution_count": 202,
   "id": "40343118",
   "metadata": {},
   "outputs": [],
   "source": [
    "win = app.window()"
   ]
  },
  {
   "cell_type": "code",
   "execution_count": 203,
   "id": "3e28fb8b",
   "metadata": {},
   "outputs": [],
   "source": [
    "win.set_focus()\n",
    "time.sleep(0.5)\n",
    "pyautogui.hotkey(\"ctrl\", \"s\")\n",
    "time.sleep(1)\n",
    "pyautogui.typewrite(\"page.html\")\n",
    "pyautogui.hotkey(\"enter\")"
   ]
  },
  {
   "cell_type": "code",
   "execution_count": 213,
   "id": "5433291d",
   "metadata": {},
   "outputs": [
    {
     "data": {
      "text/plain": [
       "'C:\\\\Users\\\\Quentin/downloads/page_files/ValidateCode.aspx'"
      ]
     },
     "execution_count": 213,
     "metadata": {},
     "output_type": "execute_result"
    }
   ],
   "source": [
    "verify_img = \"{}/ValidateCode.aspx\".format(dir_downloads)\n",
    "verify_img"
   ]
  },
  {
   "cell_type": "code",
   "execution_count": 214,
   "id": "ea380ed4",
   "metadata": {},
   "outputs": [
    {
     "data": {
      "text/plain": [
       "True"
      ]
     },
     "execution_count": 214,
     "metadata": {},
     "output_type": "execute_result"
    }
   ],
   "source": [
    "os.path.exists(verify_img)"
   ]
  },
  {
   "cell_type": "code",
   "execution_count": 216,
   "id": "f448f531",
   "metadata": {},
   "outputs": [],
   "source": [
    "while not os.path.exists(verify_img):\n",
    "    time.sleep(0.1)"
   ]
  },
  {
   "cell_type": "code",
   "execution_count": null,
   "id": "f9f08140",
   "metadata": {},
   "outputs": [],
   "source": []
  },
  {
   "cell_type": "code",
   "execution_count": null,
   "id": "7d3a2802",
   "metadata": {},
   "outputs": [],
   "source": []
  },
  {
   "cell_type": "code",
   "execution_count": null,
   "id": "de0023f3",
   "metadata": {},
   "outputs": [],
   "source": []
  },
  {
   "cell_type": "code",
   "execution_count": null,
   "id": "2459bb30",
   "metadata": {},
   "outputs": [],
   "source": []
  },
  {
   "cell_type": "code",
   "execution_count": null,
   "id": "52d1ac0d",
   "metadata": {},
   "outputs": [],
   "source": []
  }
 ],
 "metadata": {
  "kernelspec": {
   "display_name": "Python 3 (ipykernel)",
   "language": "python",
   "name": "python3"
  },
  "language_info": {
   "codemirror_mode": {
    "name": "ipython",
    "version": 3
   },
   "file_extension": ".py",
   "mimetype": "text/x-python",
   "name": "python",
   "nbconvert_exporter": "python",
   "pygments_lexer": "ipython3",
   "version": "3.7.11"
  }
 },
 "nbformat": 4,
 "nbformat_minor": 5
}
